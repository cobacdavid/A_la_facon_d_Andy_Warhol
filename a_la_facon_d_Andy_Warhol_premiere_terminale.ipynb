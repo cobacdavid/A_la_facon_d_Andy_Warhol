{
 "cells": [
  {
   "cell_type": "markdown",
   "metadata": {},
   "source": [
    "# À la façon d'Andy Warhol - 2\n",
    "\n",
    "L'activité suivante complète l'activité de seconde située dans le même dossier.\n",
    "\n",
    "Il peut être nécessaire de revoir cette activité avant d'aborder celle-ci :"
   ]
  },
  {
   "cell_type": "markdown",
   "metadata": {},
   "source": [
    "On va disposer côte-à-côté les trois images issus des canaux RVB de l'image.\n",
    "\n",
    "La commande `display` permet l'affichage d'une image mais pour envisager un affichage côte-à-côte de plusiseurs images, on doit envisager l'utilisation de `widgets` (le mot `widget` est une contraction de **WI**ndow ga**DGET**) spécifiques à l'interface de Jupyter : ce sont de petits modules graphiques indépendants (champs de saisie, boutons, etc. [voir la doc des widgets](https://ipywidgets.readthedocs.io/en/stable/examples/Widget%20List.html)).\n",
    "\n",
    "On crée donc un widget par image et on les place dans une `HBOX` : un conteneur qui empile horizontalement.\n",
    "\n",
    "*Problème* les objets de type `Image` créés par `pillow` ne conviennent pas pour ces widgets qui n'acceptent qu'un format binaire (les octets issus de l'image). Une petite manipulation est donc nécessaire pour les convertir.\n",
    "\n",
    "*Nota Bene* dans ce code, on ne sauvegarde plus les images créées."
   ]
  },
  {
   "cell_type": "markdown",
   "metadata": {},
   "source": [
    "On commence par importer toutes les bibliothèques nécessaires :"
   ]
  },
  {
   "cell_type": "code",
   "execution_count": null,
   "metadata": {},
   "outputs": [],
   "source": [
    "# installation de pillow\n",
    "import sys\n",
    "!{sys.executable} -m pip install pillow\n",
    "# puis importation du module Image\n",
    "from PIL import Image\n",
    "# utilisation de widgets pour une disposition en ligne des images\n",
    "import ipywidgets as widgets\n",
    "# utilisation de io pour conversion des images\n",
    "import io"
   ]
  },
  {
   "cell_type": "markdown",
   "metadata": {},
   "source": [
    "On définit l'objet Image pillow avec lequel on va travailler dans la suite :"
   ]
  },
  {
   "cell_type": "code",
   "execution_count": null,
   "metadata": {},
   "outputs": [],
   "source": [
    "fichier_image = 'images/boole.jpg'\n",
    "img = Image.open(fichier_image)\n",
    "\n",
    "largeur, hauteur = img.size\n",
    "print('Nombre de pixels en largeur :', largeur)\n",
    "print('Nombre de pixels en hauteur :', hauteur)"
   ]
  },
  {
   "cell_type": "markdown",
   "metadata": {},
   "source": [
    "Pour disposer côte-à-côte, on les crée avec la même variable `nouvelle_img`. Après chaque parcours de tous les pixels, on convertit l'ensemble obtenu en suite d'octets puis en widget de type image.\n",
    "\n",
    "Chaque widget est ensuite ajouté à la liste des widgets. La liste est affichée ensuite dans un widget de type conteneur horizontal."
   ]
  },
  {
   "cell_type": "code",
   "execution_count": null,
   "metadata": {},
   "outputs": [],
   "source": [
    "# liste des images sous forme de widgets\n",
    "wid = []\n",
    "\n",
    "# création de trois images -> les 3 canaux RVB de l'image\n",
    "for i in range(3):\n",
    "    # on crée la nouvelle image\n",
    "    nouvelle_img = Image.new(\"RGB\", img.size)\n",
    "    for x in range(largeur):\n",
    "        for y in range(hauteur):\n",
    "            # on choisit le canal\n",
    "            c = img.getpixel((x, y))[i]\n",
    "            couleur = [0, 0, 0]\n",
    "            couleur[i] = c\n",
    "            # putpixel n'accepte que les entiers ou les tuples\n",
    "            nouvelle_img.putpixel((x, y), tuple(couleur))\n",
    "    # transformation des images en format accepté par widgets.Image\n",
    "    # (en binaire)\n",
    "    img_byte_arr = io.BytesIO()\n",
    "    nouvelle_img.save(img_byte_arr, format='jpeg')\n",
    "    img_byte_arr = img_byte_arr.getvalue()\n",
    "    # création d'un widget et ajout dans la liste des widgets\n",
    "    wid.append(widgets.Image(value=img_byte_arr))\n",
    "\n",
    "# arrangement des widgets\n",
    "boite = widgets.HBox(wid)\n",
    "# affichage\n",
    "display(boite)"
   ]
  },
  {
   "cell_type": "markdown",
   "metadata": {},
   "source": [
    "Bien sûr pour diminuer le coût, on peut engendrer les trois images dans la même boucle. On différencie alors les trois images :"
   ]
  },
  {
   "cell_type": "code",
   "execution_count": null,
   "metadata": {},
   "outputs": [],
   "source": [
    "rouge = Image.new(\"RGB\", img.size)\n",
    "vert = Image.new(\"RGB\", img.size)\n",
    "bleu = Image.new(\"RGB\", img.size)\n",
    "\n",
    "for x in range(largeur):\n",
    "    for y in range(hauteur):\n",
    "        R, V, B = img.getpixel((x, y))\n",
    "        rouge.putpixel((x, y), (R, 0, 0))\n",
    "        vert.putpixel((x, y), (0, V, 0))\n",
    "        bleu.putpixel((x, y), (0, 0, B))\n",
    "\n",
    "wid = []\n",
    "\n",
    "for image in [rouge, vert, bleu]:\n",
    "    img_byte_arr = io.BytesIO()\n",
    "    image.save(img_byte_arr, format='jpeg')\n",
    "    img_byte_arr = img_byte_arr.getvalue()\n",
    "    wid.append(widgets.Image(value=img_byte_arr))\n",
    "\n",
    "    \n",
    "boite = widgets.HBox(wid)\n",
    "display(boite)"
   ]
  },
  {
   "cell_type": "markdown",
   "metadata": {},
   "source": [
    "Cette différenciation par un nom empêche toute évolution du code. Ainsi, on peut opter pour une stratégie différente : déclarer les besoins. On utilise alors une structure déclarant les canaux à obtenir pour chaque image. Une liste de dimension 3 précise trois images à obtenir, par exemple avec les 3 images précédentes qui expriment le triplet R (canal 0), V (canal 1) et B (canal 2), on prendrait :\n",
    "\n",
    "```python\n",
    "canaux_voulus = [[0], [1], [2]]\n",
    "```\n",
    "\n",
    "On pourrait pour chaque image demander l'expression de plusieurs canaux :\n",
    "\n",
    "```python\n",
    "canaux_voulus = [[0], [1], [0, 1]]\n",
    "```\n",
    "\n",
    "La dernière image exprimera le rouge et le vert donc aura une dominante jaune."
   ]
  },
  {
   "cell_type": "code",
   "execution_count": null,
   "metadata": {},
   "outputs": [],
   "source": [
    "canaux_voulus = [[0], [1], [0, 1]]\n",
    "\n",
    "images = [Image.new('RGB', img.size) for _ in range(len(canaux_voulus))]\n",
    "\n",
    "for x in range(largeur):\n",
    "    for y in range(hauteur):\n",
    "        R, V, B = img.getpixel((x, y))\n",
    "        # enumerate permet d'obtenir une numérotation qui sera\n",
    "        # donnée par i pour la boucle\n",
    "        for i, im in enumerate(images):\n",
    "            couleur = [0, 0, 0]\n",
    "            # on parcourt les canaux voulus pour cette image\n",
    "            for indice in canaux_voulus[i]:\n",
    "                couleur[indice] = img.getpixel((x, y))[indice]\n",
    "            im.putpixel((x, y), tuple(couleur))\n",
    "\n",
    "wid = []\n",
    "\n",
    "for image in images:\n",
    "    img_byte_arr = io.BytesIO()\n",
    "    image.save(img_byte_arr, format='jpeg')\n",
    "    img_byte_arr = img_byte_arr.getvalue()\n",
    "    wid.append(widgets.Image(value=img_byte_arr))\n",
    "\n",
    "boite = widgets.HBox(wid)\n",
    "display(boite)"
   ]
  },
  {
   "cell_type": "markdown",
   "metadata": {},
   "source": [
    "On termine avec un affichage d'images en 3 x 3 (3 en largeur et 3 en hauteur).\n",
    "\n",
    "Sur le même pricipe vue avec le widget `HBox`, on peut empiler verticalement avec un widget `VBox`."
   ]
  },
  {
   "cell_type": "code",
   "execution_count": null,
   "metadata": {},
   "outputs": [],
   "source": [
    "canaux_voulus = [[0], [1], [0, 1], [1], [2], [1, 2], [2], [0], [2, 0]]\n",
    "\n",
    "images = [Image.new('RGB', img.size) for _ in range(len(canaux_voulus))]\n",
    "\n",
    "for x in range(largeur):\n",
    "    for y in range(hauteur):\n",
    "        R, V, B = img.getpixel((x, y))\n",
    "        for i, im in enumerate(images):\n",
    "            couleur = [0, 0, 0]\n",
    "            for indice in canaux_voulus[i]:\n",
    "                couleur[indice] = img.getpixel((x, y))[indice]\n",
    "            im.putpixel((x, y), tuple(couleur))\n",
    "\n",
    "wid = []\n",
    "\n",
    "for i, image in enumerate(images):\n",
    "    # on crée le conteneur horizontal\n",
    "    if i % 3 == 0:\n",
    "        hwid = []\n",
    "    img_byte_arr = io.BytesIO()\n",
    "    image.save(img_byte_arr, format='jpeg')\n",
    "    img_byte_arr = img_byte_arr.getvalue()\n",
    "    hwid.append(widgets.Image(value=img_byte_arr))\n",
    "    # fin du widget horizontal, on l'ajoute à la liste\n",
    "    # pour le widget vertical\n",
    "    if (i + 1) % 3 == 0:\n",
    "        wid.append(widgets.HBox(hwid))\n",
    "\n",
    "boite = widgets.VBox(wid)\n",
    "display(boite)"
   ]
  },
  {
   "cell_type": "code",
   "execution_count": null,
   "metadata": {},
   "outputs": [],
   "source": []
  }
 ],
 "metadata": {
  "kernelspec": {
   "display_name": "Python 3",
   "language": "python",
   "name": "python3"
  },
  "language_info": {
   "codemirror_mode": {
    "name": "ipython",
    "version": 3
   },
   "file_extension": ".py",
   "mimetype": "text/x-python",
   "name": "python",
   "nbconvert_exporter": "python",
   "pygments_lexer": "ipython3",
   "version": "3.9.1+"
  }
 },
 "nbformat": 4,
 "nbformat_minor": 2
}
